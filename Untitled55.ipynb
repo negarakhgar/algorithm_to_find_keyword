{
  "nbformat": 4,
  "nbformat_minor": 0,
  "metadata": {
    "colab": {
      "provenance": []
    },
    "kernelspec": {
      "name": "python3",
      "display_name": "Python 3"
    },
    "language_info": {
      "name": "python"
    }
  },
  "cells": [
    {
      "cell_type": "code",
      "source": [
        "!pip install requests-html\n",
        "!pip install rake-nltk\n",
        "import nltk # import the nltk library\n",
        "\n",
        "# Download the 'stopwords' dataset and 'punkt' dataset\n",
        "nltk.download('stopwords')\n",
        "nltk.download('punkt') # Download the punkt dataset for sentence tokenization\n",
        "\n",
        "\n"
      ],
      "metadata": {
        "colab": {
          "base_uri": "https://localhost:8080/"
        },
        "id": "2aA-5R8tdb4c",
        "outputId": "f9b23071-837d-4ebb-a9b9-85ee8d76a763"
      },
      "execution_count": 9,
      "outputs": [
        {
          "output_type": "stream",
          "name": "stdout",
          "text": [
            "Requirement already satisfied: requests-html in /usr/local/lib/python3.10/dist-packages (0.10.0)\n",
            "Requirement already satisfied: requests in /usr/local/lib/python3.10/dist-packages (from requests-html) (2.32.3)\n",
            "Requirement already satisfied: pyquery in /usr/local/lib/python3.10/dist-packages (from requests-html) (2.0.1)\n",
            "Requirement already satisfied: fake-useragent in /usr/local/lib/python3.10/dist-packages (from requests-html) (1.5.1)\n",
            "Requirement already satisfied: parse in /usr/local/lib/python3.10/dist-packages (from requests-html) (1.20.2)\n",
            "Requirement already satisfied: bs4 in /usr/local/lib/python3.10/dist-packages (from requests-html) (0.0.2)\n",
            "Requirement already satisfied: w3lib in /usr/local/lib/python3.10/dist-packages (from requests-html) (2.2.1)\n",
            "Requirement already satisfied: pyppeteer>=0.0.14 in /usr/local/lib/python3.10/dist-packages (from requests-html) (2.0.0)\n",
            "Requirement already satisfied: appdirs<2.0.0,>=1.4.3 in /usr/local/lib/python3.10/dist-packages (from pyppeteer>=0.0.14->requests-html) (1.4.4)\n",
            "Requirement already satisfied: certifi>=2023 in /usr/local/lib/python3.10/dist-packages (from pyppeteer>=0.0.14->requests-html) (2024.8.30)\n",
            "Requirement already satisfied: importlib-metadata>=1.4 in /usr/local/lib/python3.10/dist-packages (from pyppeteer>=0.0.14->requests-html) (8.5.0)\n",
            "Requirement already satisfied: pyee<12.0.0,>=11.0.0 in /usr/local/lib/python3.10/dist-packages (from pyppeteer>=0.0.14->requests-html) (11.1.1)\n",
            "Requirement already satisfied: tqdm<5.0.0,>=4.42.1 in /usr/local/lib/python3.10/dist-packages (from pyppeteer>=0.0.14->requests-html) (4.66.5)\n",
            "Requirement already satisfied: urllib3<2.0.0,>=1.25.8 in /usr/local/lib/python3.10/dist-packages (from pyppeteer>=0.0.14->requests-html) (1.26.20)\n",
            "Requirement already satisfied: websockets<11.0,>=10.0 in /usr/local/lib/python3.10/dist-packages (from pyppeteer>=0.0.14->requests-html) (10.4)\n",
            "Requirement already satisfied: beautifulsoup4 in /usr/local/lib/python3.10/dist-packages (from bs4->requests-html) (4.12.3)\n",
            "Requirement already satisfied: lxml>=2.1 in /usr/local/lib/python3.10/dist-packages (from pyquery->requests-html) (4.9.4)\n",
            "Requirement already satisfied: cssselect>=1.2.0 in /usr/local/lib/python3.10/dist-packages (from pyquery->requests-html) (1.2.0)\n",
            "Requirement already satisfied: charset-normalizer<4,>=2 in /usr/local/lib/python3.10/dist-packages (from requests->requests-html) (3.4.0)\n",
            "Requirement already satisfied: idna<4,>=2.5 in /usr/local/lib/python3.10/dist-packages (from requests->requests-html) (3.10)\n",
            "Requirement already satisfied: zipp>=3.20 in /usr/local/lib/python3.10/dist-packages (from importlib-metadata>=1.4->pyppeteer>=0.0.14->requests-html) (3.20.2)\n",
            "Requirement already satisfied: typing-extensions in /usr/local/lib/python3.10/dist-packages (from pyee<12.0.0,>=11.0.0->pyppeteer>=0.0.14->requests-html) (4.12.2)\n",
            "Requirement already satisfied: soupsieve>1.2 in /usr/local/lib/python3.10/dist-packages (from beautifulsoup4->bs4->requests-html) (2.6)\n",
            "Requirement already satisfied: rake-nltk in /usr/local/lib/python3.10/dist-packages (1.0.6)\n",
            "Requirement already satisfied: nltk<4.0.0,>=3.6.2 in /usr/local/lib/python3.10/dist-packages (from rake-nltk) (3.8.1)\n",
            "Requirement already satisfied: click in /usr/local/lib/python3.10/dist-packages (from nltk<4.0.0,>=3.6.2->rake-nltk) (8.1.7)\n",
            "Requirement already satisfied: joblib in /usr/local/lib/python3.10/dist-packages (from nltk<4.0.0,>=3.6.2->rake-nltk) (1.4.2)\n",
            "Requirement already satisfied: regex>=2021.8.3 in /usr/local/lib/python3.10/dist-packages (from nltk<4.0.0,>=3.6.2->rake-nltk) (2024.9.11)\n",
            "Requirement already satisfied: tqdm in /usr/local/lib/python3.10/dist-packages (from nltk<4.0.0,>=3.6.2->rake-nltk) (4.66.5)\n"
          ]
        },
        {
          "output_type": "stream",
          "name": "stderr",
          "text": [
            "[nltk_data] Downloading package stopwords to /root/nltk_data...\n",
            "[nltk_data]   Package stopwords is already up-to-date!\n",
            "[nltk_data] Downloading package punkt to /root/nltk_data...\n",
            "[nltk_data]   Package punkt is already up-to-date!\n"
          ]
        },
        {
          "output_type": "execute_result",
          "data": {
            "text/plain": [
              "True"
            ]
          },
          "metadata": {},
          "execution_count": 9
        }
      ]
    },
    {
      "cell_type": "code",
      "source": [
        "from requests_html import HTMLSession\n",
        "from rake_nltk import Rake\n",
        "\n",
        "def extract_text():\n",
        "  s = HTMLSession()\n",
        "  url ='https://www.musicradar.com/reviews/tech/akg-c214-172209'\n",
        "  response =s.get(url)\n",
        "  return response.html.find('div#article-body', first=True).text\n",
        "\n",
        "r = Rake()\n",
        "r.extract_keywords_from_text(extract_text())\n",
        "print(r.get_ranked_phrases_with_scores())"
      ],
      "metadata": {
        "colab": {
          "base_uri": "https://localhost:8080/"
        },
        "id": "q8iUMP8xrHqK",
        "outputId": "73cd0558-52e4-4955-b693-5efb1bd6496c"
      },
      "execution_count": 10,
      "outputs": [
        {
          "output_type": "stream",
          "name": "stdout",
          "text": [
            "[(16.0, 'incredible 143db dynamic range'), (16.0, 'accurately capturing transient details'), (15.0, 'technical excellence ever since'), (15.0, 'rugged double mesh grille'), (15.0, 'phantom power sources ranging'), (14.666666666666666, 'terminated large diaphragm capsule'), (14.285714285714285, 'new c214 large diaphragm'), (14.285714285714285, 'c214 sounds extremely similar'), (9.0, 'without unduly affecting'), (9.0, 'spider suspension mount'), (9.0, 'solid bottom end'), (9.0, 'resistant matte greyish'), (9.0, 'remove unwanted low'), (9.0, 'one pickup pattern'), (9.0, 'incredibly low self'), (9.0, 'improving sonic accuracy'), (9.0, 'cast body provides'), (9.0, '60 years ago'), (8.666666666666666, 'integrated capsule suspension'), (8.5, 'metal carrying case'), (8.333333333333334, '160hz bass roll'), (8.0, 'reduces mechanical noise'), (7.8, 'purpose studio microphone'), (7.8, 'fire condenser microphone'), (7.75, 'prevent electric guitars'), (7.75, 'filter also minimises'), (7.619047619047619, 'c214 works well'), (7.6, 'loud sound sources'), (7.583333333333334, 'also performs well'), (7.166666666666667, 'frequency response curve'), (5.333333333333334, 'double bass'), (5.0, 'technical features'), (5.0, 'miking sources'), (4.75, 'electric guitars'), (4.583333333333334, 'electric bass'), (4.5, 'metal die'), (4.5, 'frequency rumble'), (4.285714285714286, 'c214 uses'), (4.25, 'electric guitar'), (4.25, 'also features'), (4.0, 'thus preventing'), (4.0, 'steady rise'), (4.0, 'six inches'), (4.0, 'recorded voices'), (4.0, 'reasonably priced'), (4.0, 'reasonable amount'), (4.0, 'proximity effect'), (4.0, 'neatly packaged'), (4.0, 'mic preamplifier'), (4.0, 'make sure'), (4.0, 'looking sexier'), (4.0, 'instrumental recordings'), (4.0, 'inch edge'), (4.0, 'highly detailed'), (4.0, 'high degree'), (4.0, 'handling noise'), (4.0, 'guitar amps'), (4.0, 'foam windscreen'), (4.0, 'floor vibrations'), (4.0, 'filter helps'), (4.0, 'falling back'), (4.0, 'excellent choice'), (4.0, 'enviable reputation'), (4.0, \"dull '.\"), (4.0, 'drum kits'), (4.0, 'detail technically'), (4.0, 'comes complete'), (4.0, 'blue finish'), (4.0, 'attenuation pad'), (4.0, '), along'), (3.6, 'front sound'), (3.5, 'recording strings'), (3.5, 'high headroom'), (3.5, 'customers want'), (3.0, 'akg microphones'), (2.6666666666666665, 'capsule'), (2.3333333333333335, 'well'), (2.2857142857142856, 'c214'), (2.2857142857142856, 'c214'), (2.2857142857142856, 'c214'), (2.25, 'also'), (2.0, 'noise'), (1.8, 'microphone'), (1.8, 'microphone'), (1.8, 'microphone'), (1.6666666666666667, 'response'), (1.6666666666666667, 'response'), (1.6, 'sound'), (1.6, 'sound'), (1.6, 'sound'), (1.5, 'want'), (1.5, 'recording'), (1.5, 'microphones'), (1.5, 'helps'), (1.5, 'headroom'), (1.5, 'akg'), (1.0, 'work'), (1.0, 'wiggle'), (1.0, 'whatever'), (1.0, 'vocals'), (1.0, 'vocal'), (1.0, 'violin'), (1.0, 'vienna'), (1.0, 'using'), (1.0, 'use'), (1.0, 'trumpets'), (1.0, 'taking'), (1.0, 'switching'), (1.0, 'switching'), (1.0, 'supplied'), (1.0, 'summary'), (1.0, 'strong'), (1.0, 'starting'), (1.0, 'spend'), (1.0, 'speech'), (1.0, 'sounding'), (1.0, 'slightly'), (1.0, 'side'), (1.0, 'shrill'), (1.0, 'shock'), (1.0, 'scratch'), (1.0, 'road'), (1.0, 'rising'), (1.0, 'rf'), (1.0, 'resonance'), (1.0, 'recommended'), (1.0, 'quite'), (1.0, 'punchier'), (1.0, 'protect'), (1.0, 'presence'), (1.0, 'prepared'), (1.0, 'prefer'), (1.0, 'pre'), (1.0, 'piano'), (1.0, 'pay'), (1.0, 'pay'), (1.0, 'particularly'), (1.0, 'overloading'), (1.0, 'overheads'), (1.0, 'output'), (1.0, 'organ'), (1.0, 'mirrored'), (1.0, 'lots'), (1.0, 'lift'), (1.0, 'lift'), (1.0, 'less'), (1.0, 'items'), (1.0, 'instruments'), (1.0, 'instruments'), (1.0, 'instance'), (1.0, 'input'), (1.0, 'increase'), (1.0, 'improved'), (1.0, 'immunity'), (1.0, 'ideal'), (1.0, 'helping'), (1.0, 'handle'), (1.0, 'going'), (1.0, 'giving'), (1.0, 'giving'), (1.0, 'get'), (1.0, 'general'), (1.0, 'flat'), (1.0, 'extra'), (1.0, 'established'), (1.0, 'engineered'), (1.0, 'due'), (1.0, 'drums'), (1.0, 'dips'), (1.0, 'designs'), (1.0, 'designed'), (1.0, 'delivers'), (1.0, 'db'), (1.0, 'db'), (1.0, 'days'), (1.0, 'couple'), (1.0, 'couple'), (1.0, 'continually'), (1.0, 'competitors'), (1.0, 'compared'), (1.0, 'company'), (1.0, 'close'), (1.0, 'cello'), (1.0, 'cardioid'), (1.0, 'c414'), (1.0, 'built'), (1.0, 'budget'), (1.0, 'austria'), (1.0, 'attention'), (1.0, 'areas'), (1.0, 'action'), (1.0, 'acoustic'), (1.0, 'accurate'), (1.0, 'accessories'), (1.0, '60hz'), (1.0, '5khz'), (1.0, '5khz'), (1.0, '5khz'), (1.0, '5khz'), (1.0, '52v'), (1.0, '5'), (1.0, '5'), (1.0, '3'), (1.0, '2khz'), (1.0, '20db'), (1.0, '2'), (1.0, '2'), (1.0, '1khz'), (1.0, '1khz'), (1.0, '13khz'), (1.0, '13db'), (1.0, '12'), (1.0, '1')]\n"
          ]
        }
      ]
    }
  ]
}